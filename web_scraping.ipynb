{
 "cells": [
  {
   "cell_type": "code",
   "execution_count": 1,
   "metadata": {
    "collapsed": false
   },
   "outputs": [],
   "source": [
    "%matplotlib inline\n",
    "from matplotlib import pyplot as plt\n",
    "import requests\n",
    "from bs4 import BeautifulSoup"
   ]
  },
  {
   "cell_type": "code",
   "execution_count": 2,
   "metadata": {
    "collapsed": false
   },
   "outputs": [],
   "source": [
    "base_url = 'http://www.zillow.com/homedetails/' #2350-61st-St-APT-3A-Brooklyn-NY-11204/62648992_zpid/'\n",
    "\n",
    "r_start = 62645962\n",
    "r_finish =62649962\n",
    "#r_finish =62649962\n",
    "serials = [ele for ele in range(r_start, r_finish)]\n",
    "\n",
    "def url(p):\n",
    "    return base_url + str(p) +'_zpid/'"
   ]
  },
  {
   "cell_type": "code",
   "execution_count": 3,
   "metadata": {
    "collapsed": false
   },
   "outputs": [],
   "source": [
    "profiles = {}\n",
    "for p in serials:\n",
    "    profiles[str(p)] = {}"
   ]
  },
  {
   "cell_type": "code",
   "execution_count": 4,
   "metadata": {
    "collapsed": true
   },
   "outputs": [],
   "source": [
    "def indices(string, line):\n",
    "    return [i for i, line in enumerate(line) if string in line]"
   ]
  },
  {
   "cell_type": "code",
   "execution_count": 5,
   "metadata": {
    "collapsed": false
   },
   "outputs": [
    {
     "name": "stdout",
     "output_type": "stream",
     "text": [
      "100.0"
     ]
    }
   ],
   "source": [
    "import re\n",
    "import json\n",
    "import sys\n",
    "\n",
    "i=0\n",
    "for p in serials:\n",
    "    i+=1\n",
    "    if i%500 == 0:\n",
    "        sys.stdout.write(\"\\r{0}\".format((float(i)/len(serials))*100))\n",
    "        sys.stdout.flush()\n",
    "        \n",
    "    soup = BeautifulSoup(requests.get(url(p), auth=('user', 'pass')).text, \"lxml\")\n",
    "    content = soup.find(\"section\", class_='zsg-content-section')\n",
    "    if not content:\n",
    "        #print(p)\n",
    "        continue\n",
    "    \n",
    "    features = dict()\n",
    "    for element in content:\n",
    "        line = re.findall(r'(.*?)\\<.*?\\>', str(element))\n",
    "        line = [item for item in line if item.strip()]\n",
    "        #print(line)\n",
    "        if 'My Notes' in line:\n",
    "            features['notes'] = line[2]\n",
    "            continue\n",
    "            \n",
    "        for I in indices('\"targets\"', line):\n",
    "            #z = x.copy()\n",
    "            features.update(json.loads(line[I])['targets'])\n",
    "            #features = json.loads(line[I])['targets']\n",
    "            del line[I]\n",
    "        \n",
    "        r=re.compile(\"(:?[^:]+)\")        \n",
    "        for J in indices(':', line):\n",
    "            partitioned_string = r.findall(line[J])\n",
    "            #print((partitioned_string))\n",
    "            try: \n",
    "                features[str(partitioned_string[0])] = partitioned_string[1][1:]\n",
    "                #del line[J]\n",
    "            except:\n",
    "                continue\n",
    "    profiles[str(p)] = features"
   ]
  },
  {
   "cell_type": "code",
   "execution_count": null,
   "metadata": {
    "collapsed": false
   },
   "outputs": [],
   "source": [
    "import pandas as pd\n",
    "df = pd.DataFrame.from_dict(profiles, orient = 'index')"
   ]
  },
  {
   "cell_type": "code",
   "execution_count": 461,
   "metadata": {
    "collapsed": false
   },
   "outputs": [],
   "source": [
    "def histogram(df, string):\n",
    "    plt.figure();\n",
    "    plt.xlabel(string)\n",
    "\n",
    "    df = df[df[string].notnull()]\n",
    "    df[string] = df[string].apply(pd.to_numeric)\n",
    "    df[string].plot.hist(xlim= (0, 10000), bins = range(0, 10000, 100))\n",
    "    return 0"
   ]
  },
  {
   "cell_type": "code",
   "execution_count": 462,
   "metadata": {
    "collapsed": false
   },
   "outputs": [
    {
     "name": "stderr",
     "output_type": "stream",
     "text": [
      "C:\\Users\\Lihan\\Anaconda3\\lib\\site-packages\\ipykernel\\__main__.py:6: SettingWithCopyWarning: \n",
      "A value is trying to be set on a copy of a slice from a DataFrame.\n",
      "Try using .loc[row_indexer,col_indexer] = value instead\n",
      "\n",
      "See the caveats in the documentation: http://pandas.pydata.org/pandas-docs/stable/indexing.html#indexing-view-versus-copy\n"
     ]
    },
    {
     "data": {
      "text/plain": [
       "0"
      ]
     },
     "execution_count": 462,
     "metadata": {},
     "output_type": "execute_result"
    },
    {
     "data": {
      "image/png": "[encoded data removed]",
      "text/plain": [
       "<matplotlib.figure.Figure at 0xba3968a3c8>"
      ]
     },
     "metadata": {},
     "output_type": "display_data"
    }
   ],
   "source": [
    "histogram(df, 'sqft')"
   ]
  },
  {
   "cell_type": "code",
   "execution_count": 463,
   "metadata": {
    "collapsed": false
   },
   "outputs": [],
   "source": [
    "df.to_csv('(%s, %s).csv' %(str(r_start),str( r_finish)))"
   ]
  }
 ],
 "metadata": {
  "anaconda-cloud": {},
  "kernelspec": {
   "display_name": "Python [conda root]",
   "language": "python",
   "name": "conda-root-py"
  },
  "language_info": {
   "codemirror_mode": {
    "name": "ipython",
    "version": 3
   },
   "file_extension": ".py",
   "mimetype": "text/x-python",
   "name": "python",
   "nbconvert_exporter": "python",
   "pygments_lexer": "ipython3",
   "version": "3.5.2"
  }
 },
 "nbformat": 4,
 "nbformat_minor": 1
}
